{
 "cells": [
  {
   "attachments": {},
   "cell_type": "markdown",
   "metadata": {},
   "source": [
    "<Now>Now in order to make this we will be leveraging a pre built library known as Openpose and a custom built machine learning algo</h>. what Openpose will do is it will take the landmarks of our body via our webcam through opencv inorder to know where our arm is or our leg is while making that perticular pose."
   ]
  },
  {
   "cell_type": "code",
   "execution_count": 11,
   "metadata": {},
   "outputs": [],
   "source": [
    "import mediapipe as mp # Import mediapipe\n",
    "import cv2 # Import opencv"
   ]
  },
  {
   "cell_type": "markdown",
   "metadata": {},
   "source": [
    "so we dont have to draw different utilities or landmarks we can just import them directly as \"mp.solutions.drawing_utils\"\n",
    "and by using mp_holistic we will be importing all our landmark detection models that we will be using in this project."
   ]
  },
  {
   "cell_type": "code",
   "execution_count": 12,
   "metadata": {},
   "outputs": [],
   "source": [
    "mp_drawing = mp.solutions.drawing_utils # Drawing helpers\n",
    "mp_holistic = mp.solutions.holistic # Mediapipe Solutions"
   ]
  },
  {
   "cell_type": "code",
   "execution_count": 15,
   "metadata": {},
   "outputs": [],
   "source": [
    "import cv2\n",
    "import mediapipe as mp\n",
    "\n",
    "# Load the video file\n",
    "cap = cv2.VideoCapture(\"G:/The-Yoga-Guru-master/YOGA VIDEO/Abhay_Padam.mp4\")\n",
    "\n",
    "# Initiate holistic model\n",
    "with mp.solutions.holistic.Holistic(min_detection_confidence=0.5, min_tracking_confidence=0.5) as holistic:\n",
    "    while cap.isOpened():\n",
    "        ret, frame = cap.read()\n",
    "\n",
    "        if not ret:\n",
    "            break\n",
    "\n",
    "        # Recolor Feed\n",
    "        image = cv2.cvtColor(frame, cv2.COLOR_BGR2RGB)\n",
    "        image.flags.writeable = False\n",
    "\n",
    "        # Make Detections\n",
    "        results = holistic.process(image)\n",
    "        # print(results.face_landmarks)\n",
    "\n",
    "        # Recolor image back to BGR for rendering\n",
    "        image.flags.writeable = True\n",
    "        image = cv2.cvtColor(image, cv2.COLOR_RGB2BGR)\n",
    "\n",
    "        # Pose Detections\n",
    "        mp.solutions.drawing_utils.draw_landmarks(image, results.pose_landmarks, mp.solutions.holistic.POSE_CONNECTIONS,\n",
    "                                                 mp.solutions.drawing_utils.DrawingSpec(color=(245, 117, 66),\n",
    "                                                                                         thickness=2,\n",
    "                                                                                         circle_radius=4),\n",
    "                                                 mp.solutions.drawing_utils.DrawingSpec(color=(245, 66, 230),\n",
    "                                                                                         thickness=2,\n",
    "                                                                                         circle_radius=2)\n",
    "                                                 )\n",
    "\n",
    "        cv2.imshow('Raw Webcam Feed', image)\n",
    "\n",
    "        if cv2.waitKey(10) & 0xFF == ord('q'):\n",
    "            break\n",
    "\n",
    "cap.release()\n",
    "cv2.destroyAllWindows()\n"
   ]
  },
  {
   "cell_type": "markdown",
   "metadata": {},
   "source": [
    "The below command is used to capture live feed from our webcam as we are doing this project in real time. '0' basically denotes the location of webcam in my laptop it is located at 0 only but it might differ."
   ]
  },
  {
   "cell_type": "code",
   "execution_count": 16,
   "metadata": {},
   "outputs": [
    {
     "data": {
      "text/plain": [
       "[x: 0.5361937284469604\n",
       "y: 0.5804223418235779\n",
       "z: -0.10346709936857224\n",
       "visibility: 0.9999960660934448\n",
       ", x: 0.53947514295578\n",
       "y: 0.5695361495018005\n",
       "z: -0.09295128285884857\n",
       "visibility: 0.9999987483024597\n",
       ", x: 0.5414979457855225\n",
       "y: 0.5693989396095276\n",
       "z: -0.09299057722091675\n",
       "visibility: 0.9999982714653015\n",
       ", x: 0.5435006618499756\n",
       "y: 0.5694499611854553\n",
       "z: -0.09303396195173264\n",
       "visibility: 0.9999988675117493\n",
       ", x: 0.5319684743881226\n",
       "y: 0.5702974796295166\n",
       "z: -0.09396382421255112\n",
       "visibility: 0.999998152256012\n",
       ", x: 0.529209554195404\n",
       "y: 0.5705264210700989\n",
       "z: -0.09398769587278366\n",
       "visibility: 0.9999969005584717\n",
       ", x: 0.5268154740333557\n",
       "y: 0.5706742405891418\n",
       "z: -0.09397928416728973\n",
       "visibility: 0.9999977350234985\n",
       ", x: 0.5464605093002319\n",
       "y: 0.5735824108123779\n",
       "z: -0.030298713594675064\n",
       "visibility: 0.9999975562095642\n",
       ", x: 0.5242007970809937\n",
       "y: 0.5752084255218506\n",
       "z: -0.035982903093099594\n",
       "visibility: 0.9999954104423523\n",
       ", x: 0.5404866337776184\n",
       "y: 0.591196596622467\n",
       "z: -0.07988768070936203\n",
       "visibility: 0.9999987483024597\n",
       ", x: 0.5314387679100037\n",
       "y: 0.592085063457489\n",
       "z: -0.08146034926176071\n",
       "visibility: 0.9999987483024597\n",
       ", x: 0.5657138228416443\n",
       "y: 0.6302411556243896\n",
       "z: -0.01983511634171009\n",
       "visibility: 0.999968945980072\n",
       ", x: 0.5052743554115295\n",
       "y: 0.6369825005531311\n",
       "z: -0.016941232606768608\n",
       "visibility: 0.9998540282249451\n",
       ", x: 0.5700202584266663\n",
       "y: 0.7036702036857605\n",
       "z: -0.060691069811582565\n",
       "visibility: 0.9174521565437317\n",
       ", x: 0.5033358335494995\n",
       "y: 0.7119247317314148\n",
       "z: -0.06187349185347557\n",
       "visibility: 0.8511971831321716\n",
       ", x: 0.5804501175880432\n",
       "y: 0.7553406357765198\n",
       "z: -0.17497143149375916\n",
       "visibility: 0.9102718830108643\n",
       ", x: 0.49834388494491577\n",
       "y: 0.7629831433296204\n",
       "z: -0.17385436594486237\n",
       "visibility: 0.7945553660392761\n",
       ", x: 0.5883654356002808\n",
       "y: 0.767813503742218\n",
       "z: -0.19870175421237946\n",
       "visibility: 0.9035132527351379\n",
       ", x: 0.4931611120700836\n",
       "y: 0.7775440812110901\n",
       "z: -0.19613665342330933\n",
       "visibility: 0.8048735857009888\n",
       ", x: 0.5867051482200623\n",
       "y: 0.7666306495666504\n",
       "z: -0.21092592179775238\n",
       "visibility: 0.9142407774925232\n",
       ", x: 0.496651828289032\n",
       "y: 0.7733213901519775\n",
       "z: -0.20715783536434174\n",
       "visibility: 0.8207098841667175\n",
       ", x: 0.582567036151886\n",
       "y: 0.7639264464378357\n",
       "z: -0.18200470507144928\n",
       "visibility: 0.907172679901123\n",
       ", x: 0.49948781728744507\n",
       "y: 0.7679601311683655\n",
       "z: -0.18032558262348175\n",
       "visibility: 0.8191436529159546\n",
       ", x: 0.5529782176017761\n",
       "y: 0.761077880859375\n",
       "z: -0.0013413064880296588\n",
       "visibility: 0.9999305009841919\n",
       ", x: 0.516419529914856\n",
       "y: 0.7630717754364014\n",
       "z: 0.0013731141807511449\n",
       "visibility: 0.9998562932014465\n",
       ", x: 0.5904104709625244\n",
       "y: 0.7723875045776367\n",
       "z: -0.2191564440727234\n",
       "visibility: 0.9303042888641357\n",
       ", x: 0.48398375511169434\n",
       "y: 0.769909143447876\n",
       "z: -0.20727789402008057\n",
       "visibility: 0.9100913405418396\n",
       ", x: 0.5180363059043884\n",
       "y: 0.8119826912879944\n",
       "z: -0.16342458128929138\n",
       "visibility: 0.5197152495384216\n",
       ", x: 0.5538400411605835\n",
       "y: 0.8096114993095398\n",
       "z: -0.15621785819530487\n",
       "visibility: 0.5602954030036926\n",
       ", x: 0.511779248714447\n",
       "y: 0.8057940602302551\n",
       "z: -0.15413881838321686\n",
       "visibility: 0.5161939859390259\n",
       ", x: 0.5596057772636414\n",
       "y: 0.7952883243560791\n",
       "z: -0.14723089337348938\n",
       "visibility: 0.4724869728088379\n",
       ", x: 0.48951956629753113\n",
       "y: 0.8137596249580383\n",
       "z: -0.19599024951457977\n",
       "visibility: 0.6024248003959656\n",
       ", x: 0.5830968022346497\n",
       "y: 0.813727855682373\n",
       "z: -0.18795132637023926\n",
       "visibility: 0.619894802570343\n",
       "]"
      ]
     },
     "execution_count": 16,
     "metadata": {},
     "output_type": "execute_result"
    }
   ],
   "source": [
    "\n",
    "results.pose_landmarks.landmark"
   ]
  },
  {
   "cell_type": "markdown",
   "metadata": {},
   "source": [
    "Capture Landmarks & Export to CSV"
   ]
  },
  {
   "cell_type": "code",
   "execution_count": 17,
   "metadata": {},
   "outputs": [
    {
     "name": "stdout",
     "output_type": "stream",
     "text": [
      "33\n"
     ]
    }
   ],
   "source": [
    "import csv\n",
    "import os\n",
    "import numpy as np\n",
    "\n",
    "\n",
    "num_coords = len(results.pose_landmarks.landmark)\n",
    "print(num_coords)\n",
    "landmarks = ['class']\n",
    "for val in range(1, num_coords+1):\n",
    "    landmarks += ['x{}'.format(val), 'y{}'.format(val), 'z{}'.format(val), 'v{}'.format(val)]\n"
   ]
  },
  {
   "cell_type": "code",
   "execution_count": 18,
   "metadata": {},
   "outputs": [],
   "source": [
    "# with open('individual data sets/yoga.csv', mode='w', newline='') as f:\n",
    "#     csv_writer = csv.writer(f, delimiter=',', quotechar='\"', quoting=csv.QUOTE_MINIMAL)\n",
    "#     csv_writer.writerow(landmarks)"
   ]
  },
  {
   "cell_type": "code",
   "execution_count": 19,
   "metadata": {},
   "outputs": [],
   "source": [
    "class_name = \"ArdhChakrAsana\""
   ]
  },
  {
   "cell_type": "code",
   "execution_count": 20,
   "metadata": {},
   "outputs": [],
   "source": [
    "cap = cv2.VideoCapture(\"ardhchakra.mp4\")\n",
    "# Initiate holistic model\n",
    "with mp_holistic.Holistic(min_detection_confidence=0.5, min_tracking_confidence=0.5) as holistic:\n",
    "    \n",
    "    while cap.isOpened():\n",
    "        ret, frame = cap.read()\n",
    "        \n",
    "        # Recolor Feed\n",
    "        image = cv2.cvtColor(frame, cv2.COLOR_BGR2RGB)\n",
    "        image.flags.writeable = False        \n",
    "        \n",
    "        # Make Detections\n",
    "        results = holistic.process(image)\n",
    "        # print(results.face_landmarks)\n",
    "        \n",
    "        # face_landmarks, pose_landmarks, left_hand_landmarks, right_hand_landmarks\n",
    "        \n",
    "        # Recolor image back to BGR for rendering\n",
    "        image.flags.writeable = True   \n",
    "        image = cv2.cvtColor(image, cv2.COLOR_RGB2BGR)\n",
    "        \n",
    "\n",
    "        # 4. Pose Detections\n",
    "        mp_drawing.draw_landmarks(image, results.pose_landmarks, mp_holistic.POSE_CONNECTIONS, \n",
    "                                 mp_drawing.DrawingSpec(color=(245,117,66), thickness=2, circle_radius=4),\n",
    "                                 mp_drawing.DrawingSpec(color=(245,66,230), thickness=2, circle_radius=2)\n",
    "                                 )\n",
    "        # Export coordinates\n",
    "        try:\n",
    "            # Extract Pose landmarks\n",
    "            pose = results.pose_landmarks.landmark\n",
    "            pose_row = list(np.array([[landmark.x, landmark.y, landmark.z, landmark.visibility] for landmark in pose]).flatten())\n",
    "            \n",
    "            \n",
    "            # Concate rows\n",
    "            row = pose_row\n",
    "            \n",
    "            # Append class name \n",
    "            row.insert(0, class_name)\n",
    "            \n",
    "            # Export to CSV\n",
    "            with open('individual data sets/yoga.csv', mode='a', newline='') as f:\n",
    "                csv_writer = csv.writer(f, delimiter=',', quotechar='\"', quoting=csv.QUOTE_MINIMAL)\n",
    "                csv_writer.writerow(row) \n",
    "            \n",
    "        except:\n",
    "            pass\n",
    "                        \n",
    "        cv2.imshow('Raw Webcam Feed', image)\n",
    "\n",
    "        if cv2.waitKey(10) & 0xFF == ord('q'):\n",
    "            break\n",
    "\n",
    "cap.release()\n",
    "cv2.destroyAllWindows()"
   ]
  }
 ],
 "metadata": {
  "kernelspec": {
   "display_name": "Python 3",
   "language": "python",
   "name": "python3"
  },
  "language_info": {
   "codemirror_mode": {
    "name": "ipython",
    "version": 3
   },
   "file_extension": ".py",
   "mimetype": "text/x-python",
   "name": "python",
   "nbconvert_exporter": "python",
   "pygments_lexer": "ipython3",
   "version": "3.7.3"
  },
  "orig_nbformat": 4,
  "vscode": {
   "interpreter": {
    "hash": "75315411dcb8111361821cfec94c7bd01c29dd91e3aac682d7157bc64caffd3a"
   }
  }
 },
 "nbformat": 4,
 "nbformat_minor": 2
}
